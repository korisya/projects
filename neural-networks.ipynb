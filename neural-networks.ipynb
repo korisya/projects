{
 "cells": [
  {
   "cell_type": "code",
   "execution_count": 203,
   "metadata": {},
   "outputs": [],
   "source": [
    "import math\n",
    "import numpy as np\n",
    "import matplotlib.pyplot as plt"
   ]
  },
  {
   "cell_type": "markdown",
   "metadata": {},
   "source": [
    "#### 3a)\n",
    "\n",
    "$${\\nabla}_\\mathbf{w}f_\\mathbf{w}(x) = \\begin{bmatrix} \\frac{\\partial f_\\mathbf{w}(x)}{\\partial w_1} \\\\ \\frac{\\partial f_\\mathbf{w}(x)}{\\partial w_2} \\\\ \\frac{\\partial f_\\mathbf{w}(x)}{\\partial w_3} \\\\ \\frac{\\partial f_\\mathbf{w}(x)}{\\partial w_4} \\\\ \\frac{\\partial f_\\mathbf{w}(x)}{\\partial w_5} \\\\ \\frac{\\partial f_\\mathbf{w}(x)}{\\partial w_6} \\\\ \\frac{\\partial f_\\mathbf{w}(x)}{\\partial w_7} \\\\ \\frac{\\partial f_\\mathbf{w}(x)}{\\partial w_8} \\\\ \\frac{\\partial f_\\mathbf{w}(x)}{\\partial w_9} \\\\ \\frac{\\partial f_\\mathbf{w}(x)}{\\partial w_{10}} \\\\ \\frac{\\partial f_\\mathbf{w}(x)}{\\partial w_{11}} \\\\ \\frac{\\partial f_\\mathbf{w}(x)}{\\partial w_{12}} \\\\ \\frac{\\partial f_\\mathbf{w}(x)}{\\partial w_{13}} \\\\ \\frac{\\partial f_\\mathbf{w}(x)}{\\partial w_{14}} \\\\ \\frac{\\partial f_\\mathbf{w}(x)}{\\partial w_{15}} \\\\ \\frac{\\partial f_\\mathbf{w}(x)}{\\partial w_{16}} \\end{bmatrix} = \\begin{bmatrix} \\phi (w_2x_1+w_3x_2+w_4x_3+w_5) \\\\ w_1x_1 \\phi '(w_2x_1+w_3x_2+w_4x_3+w_5) \\\\ w_1x_2 \\phi '(w_2x_1+w_3x_2+w_4x_3+w_5) \\\\ w_1x_3 \\phi '(w_2x_1+w_3x_2+w_4x_3+w_5) \\\\ w_1 \\phi '(w_2x_1+w_3x_2+w_4x_3+w_5) \\\\ \\phi (w_7x_1+w_8x_2+w_9x_3+w_{10}) \\\\ w_6x_1 \\phi '(w_7x_1+w_8x_2+w_9x_3+w_{10}) \\\\ w_6x_2 \\phi '(w_7x_1+w_8x_2+w_9x_3+w_{10}) \\\\ w_6x_3 \\phi '(w_7x_1+w_8x_2+w_9x_3+w_{10}) \\\\ w_6 \\phi '(w_7x_1+w_8x_2+w_9x_3+w_{10}) \\\\ \\phi (w_{12}x_1+w_{13}x_2+w_{14}x_3+w_{15}) \\\\ w_{11}x_1 \\phi '(w_{12}x_1+w_{13}x_2+w_{14}x_3+w_{15}) \\\\ w_{11}x_2 \\phi '(w_{12}x_1+w_{13}x_2+w_{14}x_3+w_{15}) \\\\ w_{11}x_3 \\phi '(w_{12}x_1+w_{13}x_2+w_{14}x_3+w_{15}) \\\\ w_{11} \\phi '(w_{12}x_1+w_{13}x_2+w_{14}x_3+w_{15}) \\\\ 1 \\end{bmatrix}$$"
   ]
  },
  {
   "cell_type": "markdown",
   "metadata": {},
   "source": [
    "#### 3b)\n",
    "$$\\mathbf{Dr}(\\mathbf{w}) = \\begin{bmatrix} \\frac{\\partial r_1(\\mathbf{w})}{\\partial w_1}&\\frac{\\partial r_1(\\mathbf{w})}{\\partial w_2}&\\dots&\\frac{\\partial r_1(\\mathbf{w})}{\\partial w_{16}} \\\\ \\frac{\\partial r_2(\\mathbf{w})}{\\partial w_1}& \\frac{\\partial r_2(\\mathbf{w})}{\\partial w_2}&\\dots&\\frac{\\partial r_2(\\mathbf{w})}{\\partial w_{16}} \\\\ \\vdots&\\vdots&&\\vdots \\\\ \\frac{\\partial r_N(\\mathbf{w})}{\\partial w_1}&\\frac{\\partial r_N(\\mathbf{w})}{\\partial w_2}&\\dots&\\frac{\\partial r_N(\\mathbf{w})}{\\partial w_{16}} \\end{bmatrix} = \\begin{bmatrix} \\frac{\\partial f_{\\mathbf{w}}(x^{(1)})}{\\partial w_1}&\\frac{\\partial f_{\\mathbf{w}}(x^{(1)})}{\\partial w_2}&\\dots&\\frac{\\partial f_{\\mathbf{w}}(x^{(1)})}{\\partial w_{16}} \\\\ \\frac{\\partial f_{\\mathbf{w}}(x^{(2)})}{\\partial w_1}& \\frac{\\partial f_{\\mathbf{w}}(x^{(2)})}{\\partial w_2}&\\dots&\\frac{\\partial f_{\\mathbf{w}}(x^{(2)})}{\\partial w_{16}} \\\\ \\vdots&\\vdots&&\\vdots \\\\ \\frac{\\partial f_{\\mathbf{w}}(x^{(N)})}{\\partial w_1}&\\frac{\\partial f_{\\mathbf{w}}(x^{(N)})}{\\partial w_2}&\\dots&\\frac{\\partial f_{\\mathbf{w}}(x^{(N)})}{\\partial w_{16}} \\end{bmatrix} = \\begin{bmatrix} {\\nabla}_\\mathbf{w}f_\\mathbf{w}(x^{(1)})^T \\\\ {\\nabla}_\\mathbf{w}f_\\mathbf{w}(x^{(2)})^T \\\\ \\vdots \\\\ {\\nabla}_\\mathbf{w}f_\\mathbf{w}(x^{(N)})^T \\end{bmatrix}$$"
   ]
  },
  {
   "cell_type": "markdown",
   "metadata": {},
   "source": [
    "#### 3c) (i)\n",
    "I chose random points from a uniform distribution in $(-2, 2)$."
   ]
  },
  {
   "cell_type": "code",
   "execution_count": 2,
   "metadata": {},
   "outputs": [],
   "source": [
    "def sigmoid(x):\n",
    "    return (math.exp(x) - math.exp(-1 * x)) / (math.exp(x) + math.exp(-1 * x))"
   ]
  },
  {
   "cell_type": "code",
   "execution_count": 4,
   "metadata": {},
   "outputs": [],
   "source": [
    "# Calculating the derivative of the sigmoid function gives 1 - (sigmoid(x) ** 2)\n",
    "def dsigmoid(x):\n",
    "    return 1 - (sigmoid(x) ** 2)"
   ]
  },
  {
   "cell_type": "code",
   "execution_count": 5,
   "metadata": {},
   "outputs": [],
   "source": [
    "def gradient(x, w):\n",
    "    return [sigmoid(w[1]*x[0] + w[2]*x[1] + w[3]*x[2] + w[4]), \n",
    "            w[0]*x[0]*dsigmoid(w[1]*x[0] + w[2]*x[1] + w[3]*x[2] + w[4]),\n",
    "            w[0]*x[1]*dsigmoid(w[1]*x[0] + w[2]*x[1] + w[3]*x[2] + w[4]),\n",
    "            w[0]*x[2]*dsigmoid(w[1]*x[0] + w[2]*x[1] + w[3]*x[2] + w[4]), \n",
    "            w[0]*dsigmoid(w[1]*x[0] + w[2]*x[1] + w[3]*x[2] + w[4]),\n",
    "            sigmoid(w[6]*x[0] + w[7]*x[1] + w[8]*x[2] + w[9]), \n",
    "            w[5]*x[0]*dsigmoid(w[6]*x[0] + w[7]*x[1] + w[8]*x[2] + w[9]),\n",
    "            w[5]*x[1]*dsigmoid(w[6]*x[0] + w[7]*x[1] + w[8]*x[2] + w[9]),\n",
    "            w[5]*x[2]*dsigmoid(w[6]*x[0] + w[7]*x[1] + w[8]*x[2] + w[9]), \n",
    "            w[5]*dsigmoid(w[6]*x[0] + w[7]*x[1] + w[8]*x[2] + w[9]),\n",
    "            sigmoid(w[11]*x[0] + w[12]*x[1] + w[13]*x[2] + w[14]), \n",
    "            w[10]*x[0]*dsigmoid(w[11]*x[0] + w[12]*x[1] + w[13]*x[2] + w[14]),\n",
    "            w[10]*x[1]*dsigmoid(w[11]*x[0] + w[12]*x[1] + w[13]*x[2] + w[14]),\n",
    "            w[10]*x[2]*dsigmoid(w[11]*x[0] + w[12]*x[1] + w[13]*x[2] + w[14]), \n",
    "            w[10]*dsigmoid(w[11]*x[0] + w[12]*x[1] + w[13]*x[2] + w[14]),\n",
    "            1]"
   ]
  },
  {
   "cell_type": "code",
   "execution_count": 7,
   "metadata": {},
   "outputs": [],
   "source": [
    "def jacobian(data, w):\n",
    "    return [gradient(x, w) for x in data]"
   ]
  },
  {
   "cell_type": "code",
   "execution_count": 19,
   "metadata": {},
   "outputs": [],
   "source": [
    "def fw(x, w):\n",
    "    return w[0]*sigmoid(w[1]*x[0] + w[2]*x[1] + w[3]*x[2] + w[4]) + w[5]*sigmoid(w[6]*x[0] + w[7]*x[1] + w[8]*x[2] + w[9]) + w[10]*sigmoid(w[11]*x[0] + w[12]*x[1] + w[13]*x[2] + w[14]) + w[15]"
   ]
  },
  {
   "cell_type": "code",
   "execution_count": 21,
   "metadata": {},
   "outputs": [],
   "source": [
    "def g(x):\n",
    "    return x[0] * x[1] + x[2]"
   ]
  },
  {
   "cell_type": "code",
   "execution_count": 22,
   "metadata": {},
   "outputs": [],
   "source": [
    "def r(x, w):\n",
    "    return fw(x, w) - g(x)"
   ]
  },
  {
   "cell_type": "code",
   "execution_count": 23,
   "metadata": {},
   "outputs": [],
   "source": [
    "def loss(data, w, lamb):\n",
    "    return sum([r(x, w) ** 2 for x in data]) + lamb * sum([wi ** 2 for wi in w])"
   ]
  },
  {
   "cell_type": "code",
   "execution_count": 25,
   "metadata": {},
   "outputs": [],
   "source": [
    "def rbold(data, w):\n",
    "    return [r(x, w) for x in data]"
   ]
  },
  {
   "cell_type": "code",
   "execution_count": 55,
   "metadata": {},
   "outputs": [],
   "source": [
    "def A(data, w, lamb, lambk):\n",
    "    a1 = np.array(jacobian(data, w))\n",
    "    a2 = np.sqrt(lamb)*np.identity(16)\n",
    "    a3 = np.sqrt(lambk)*np.identity(16)\n",
    "    return np.concatenate((a1, a2, a3))"
   ]
  },
  {
   "cell_type": "code",
   "execution_count": 78,
   "metadata": {},
   "outputs": [],
   "source": [
    "def b(data, w, lamb, lambk):\n",
    "    b1 = np.matmul(jacobian(data, w), w) - rbold(data, w)\n",
    "    b2 = np.zeros(16)\n",
    "    b3 = np.sqrt(lambk)*w\n",
    "    return np.append(np.append(b1, b2), b3)"
   ]
  },
  {
   "cell_type": "code",
   "execution_count": 81,
   "metadata": {},
   "outputs": [],
   "source": [
    "def getNextW(data, w, lamb, lambk):\n",
    "    w_next,_,_,_ = np.linalg.lstsq(A(data, w, lamb, lambk), b(data, w, lamb, lambk), rcond=None)\n",
    "    return w_next"
   ]
  },
  {
   "cell_type": "markdown",
   "metadata": {},
   "source": [
    "Using $\\lambda = 10^{-5}$, we get $$\\mathbf{w} = \\begin{bmatrix} -1.81119611\\\\ 0.01672057\\\\ -0.05235694\\\\ -0.53380525\\\\ 0.08819614\\\\ 6.08380402\\\\ -0.33840415\\\\ -0.3398205\\\\ 0.02386589\\\\ 0.66556909\\\\ -5.85672418\\\\ -0.34713852\\\\ -0.32563561\\\\ -0.03099696\\\\ 0.62348097\\\\ 5.81161561 \\end{bmatrix}$$"
   ]
  },
  {
   "cell_type": "code",
   "execution_count": 12,
   "metadata": {},
   "outputs": [],
   "source": [
    "X_train = 4 * np.random.rand(500, 3) - 2\n",
    "initial_w = 2 * np.random.rand(16) - 1"
   ]
  },
  {
   "cell_type": "code",
   "execution_count": 214,
   "metadata": {},
   "outputs": [],
   "source": [
    "current_w = initial_w\n",
    "initial_lamb = 0.00001\n",
    "current_lambk = 0.00001\n",
    "next_loss = 0\n",
    "current_loss = float('inf') \n",
    "loss_per_it = []"
   ]
  },
  {
   "cell_type": "code",
   "execution_count": 215,
   "metadata": {},
   "outputs": [],
   "source": [
    "while current_loss > 243:\n",
    "    next_w = getNextW(X_train, current_w, initial_lamb, current_lambk)\n",
    "    next_loss = loss(X_train, next_w, initial_lamb)\n",
    "    if (next_loss < current_loss):\n",
    "        current_w = next_w\n",
    "        current_lambk = 0.8 * current_lambk\n",
    "        current_loss = next_loss\n",
    "    else:\n",
    "        current_lambk = 2 * current_lambk\n",
    "    loss_per_it.append(current_loss)"
   ]
  },
  {
   "cell_type": "code",
   "execution_count": 216,
   "metadata": {},
   "outputs": [
    {
     "data": {
      "text/plain": [
       "array([-1.81119611,  0.01672057, -0.05235694, -0.53380525,  0.08819614,\n",
       "        6.08380402, -0.33840415, -0.3398205 ,  0.02386589, -0.66556909,\n",
       "       -5.85672418, -0.34713852, -0.32563561, -0.03099696,  0.62348097,\n",
       "        5.81161561])"
      ]
     },
     "execution_count": 216,
     "metadata": {},
     "output_type": "execute_result"
    }
   ],
   "source": [
    "current_w"
   ]
  },
  {
   "cell_type": "code",
   "execution_count": 217,
   "metadata": {},
   "outputs": [],
   "source": [
    "ws = [current_w]"
   ]
  },
  {
   "cell_type": "code",
   "execution_count": 218,
   "metadata": {},
   "outputs": [
    {
     "data": {
      "image/png": "[encoded data removed]",
      "text/plain": [
       "<Figure size 432x288 with 1 Axes>"
      ]
     },
     "metadata": {
      "needs_background": "light"
     },
     "output_type": "display_data"
    }
   ],
   "source": [
    "plt.plot(loss_per_it)\n",
    "plt.ylabel('training loss')\n",
    "plt.xlabel('iterations')\n",
    "plt.title(r'$\\lambda = 10^{-5}$')\n",
    "plt.axis([0, 80, 0, max(loss_per_it)])\n",
    "plt.show()"
   ]
  },
  {
   "cell_type": "code",
   "execution_count": 219,
   "metadata": {},
   "outputs": [],
   "source": [
    "it5 = loss_per_it"
   ]
  },
  {
   "cell_type": "markdown",
   "metadata": {},
   "source": [
    "Using $\\lambda = 10^{-4}$, we get $$\\mathbf{w} = \\begin{bmatrix} -1.89363266\\\\  0.01937842\\\\ -0.05593445\\\\ -0.52059953\\\\  0.0881665\\\\\n",
    "        6.41905446\\\\ -0.32083145\\\\ -0.32305973\\\\  0.02010413\\\\ -0.62731592\\\\\n",
    "       -5.94186692\\\\ -0.35546263\\\\ -0.3318386\\\\ -0.02679276\\\\  0.61945969\\\\\n",
    "        5.87857936 \\end{bmatrix}$$"
   ]
  },
  {
   "cell_type": "code",
   "execution_count": 220,
   "metadata": {},
   "outputs": [],
   "source": [
    "current_w = initial_w\n",
    "initial_lamb = 0.0001\n",
    "current_lambk = 0.00001\n",
    "next_loss = 0\n",
    "current_loss = float('inf') \n",
    "loss_per_it = []"
   ]
  },
  {
   "cell_type": "code",
   "execution_count": 221,
   "metadata": {},
   "outputs": [],
   "source": [
    "while current_loss > 243:\n",
    "    next_w = getNextW(X_train, current_w, initial_lamb, current_lambk)\n",
    "    next_loss = loss(X_train, next_w, initial_lamb)\n",
    "    if (next_loss < current_loss):\n",
    "        current_w = next_w\n",
    "        current_lambk = 0.8 * current_lambk\n",
    "        current_loss = next_loss\n",
    "    else:\n",
    "        current_lambk = 2 * current_lambk\n",
    "    loss_per_it.append(current_loss)"
   ]
  },
  {
   "cell_type": "code",
   "execution_count": 222,
   "metadata": {},
   "outputs": [
    {
     "data": {
      "text/plain": [
       "array([-1.89363266,  0.01937842, -0.05593445, -0.52059953,  0.0881665 ,\n",
       "        6.41905446, -0.32083145, -0.32305973,  0.02010413, -0.62731592,\n",
       "       -5.94186692, -0.35546263, -0.3318386 , -0.02679276,  0.61945969,\n",
       "        5.87857936])"
      ]
     },
     "execution_count": 222,
     "metadata": {},
     "output_type": "execute_result"
    }
   ],
   "source": [
    "current_w"
   ]
  },
  {
   "cell_type": "code",
   "execution_count": 223,
   "metadata": {},
   "outputs": [],
   "source": [
    "ws.append(current_w)"
   ]
  },
  {
   "cell_type": "code",
   "execution_count": 224,
   "metadata": {},
   "outputs": [
    {
     "data": {
      "image/png": "[encoded data removed]",
      "text/plain": [
       "<Figure size 432x288 with 1 Axes>"
      ]
     },
     "metadata": {
      "needs_background": "light"
     },
     "output_type": "display_data"
    }
   ],
   "source": [
    "plt.plot(loss_per_it)\n",
    "plt.ylabel('training loss')\n",
    "plt.xlabel('iterations')\n",
    "plt.title(r'$\\lambda = 10^{-4}$')\n",
    "plt.axis([0, 80, 0, max(loss_per_it)])\n",
    "plt.show()"
   ]
  },
  {
   "cell_type": "code",
   "execution_count": 225,
   "metadata": {},
   "outputs": [],
   "source": [
    "it4 = loss_per_it"
   ]
  },
  {
   "cell_type": "markdown",
   "metadata": {},
   "source": [
    "Using $\\lambda = 10^{-3}$, we get $$\\mathbf{w} = \\begin{bmatrix} -2.10447442\\\\ -0.00713297\\\\ -0.04053203\\\\ -0.49282216\\\\  0.08563284\\\\\n",
    "        4.20659151\\\\ -0.42271472\\\\ -0.42700515\\\\  0.02640867\\\\ -0.85637419\\\\\n",
    "       -3.77564997\\\\ -0.45521592\\\\ -0.43647924\\\\ -0.03499611\\\\  0.82159764\\\\\n",
    "        4.50110251 \\end{bmatrix}$$"
   ]
  },
  {
   "cell_type": "code",
   "execution_count": 226,
   "metadata": {},
   "outputs": [],
   "source": [
    "current_w = initial_w\n",
    "initial_lamb = 0.001\n",
    "current_lambk = 0.00001\n",
    "next_loss = 0\n",
    "current_loss = float('inf') \n",
    "loss_per_it = []"
   ]
  },
  {
   "cell_type": "code",
   "execution_count": 227,
   "metadata": {},
   "outputs": [],
   "source": [
    "while current_loss > 243:\n",
    "    next_w = getNextW(X_train, current_w, initial_lamb, current_lambk)\n",
    "    next_loss = loss(X_train, next_w, initial_lamb)\n",
    "    if (next_loss < current_loss):\n",
    "        current_w = next_w\n",
    "        current_lambk = 0.8 * current_lambk\n",
    "        current_loss = next_loss\n",
    "    else:\n",
    "        current_lambk = 2 * current_lambk\n",
    "    loss_per_it.append(current_loss)"
   ]
  },
  {
   "cell_type": "code",
   "execution_count": 228,
   "metadata": {},
   "outputs": [
    {
     "data": {
      "text/plain": [
       "array([-2.10447442, -0.00713297, -0.04053203, -0.49282216,  0.08563284,\n",
       "        4.20659151, -0.42271472, -0.42700515,  0.02640867, -0.85637419,\n",
       "       -3.77564997, -0.45521592, -0.43647924, -0.03499611,  0.82159764,\n",
       "        4.50110251])"
      ]
     },
     "execution_count": 228,
     "metadata": {},
     "output_type": "execute_result"
    }
   ],
   "source": [
    "current_w"
   ]
  },
  {
   "cell_type": "code",
   "execution_count": 229,
   "metadata": {},
   "outputs": [],
   "source": [
    "ws.append(current_w)"
   ]
  },
  {
   "cell_type": "code",
   "execution_count": 230,
   "metadata": {},
   "outputs": [
    {
     "data": {
      "image/png": "[encoded data removed]",
      "text/plain": [
       "<Figure size 432x288 with 1 Axes>"
      ]
     },
     "metadata": {
      "needs_background": "light"
     },
     "output_type": "display_data"
    }
   ],
   "source": [
    "plt.plot(loss_per_it)\n",
    "plt.ylabel('training loss')\n",
    "plt.xlabel('iterations')\n",
    "plt.title(r'$\\lambda = 10^{-3}$')\n",
    "plt.axis([0, 80, 0, max(loss_per_it)])\n",
    "plt.show()"
   ]
  },
  {
   "cell_type": "code",
   "execution_count": 231,
   "metadata": {},
   "outputs": [],
   "source": [
    "it3 = loss_per_it"
   ]
  },
  {
   "cell_type": "code",
   "execution_count": 232,
   "metadata": {},
   "outputs": [
    {
     "name": "stdout",
     "output_type": "stream",
     "text": [
      "821 2988 242\n"
     ]
    }
   ],
   "source": [
    "print(len(it5), len(it4), len(it3))"
   ]
  },
  {
   "cell_type": "markdown",
   "metadata": {},
   "source": [
    "Even though we get similar training loss graphs for different values of $\\lambda$, the resulting $\\mathbf{w}$'s were different. They also converged at different rates."
   ]
  },
  {
   "cell_type": "markdown",
   "metadata": {},
   "source": [
    "Testing using a different initial $\\mathbf{w}$:"
   ]
  },
  {
   "cell_type": "code",
   "execution_count": 235,
   "metadata": {},
   "outputs": [],
   "source": [
    "initial_w = 2 * np.random.rand(16) - 1"
   ]
  },
  {
   "cell_type": "markdown",
   "metadata": {},
   "source": [
    "Using $\\lambda = 10^{-5}$, we get $$\\mathbf{w} = \\begin{bmatrix} -4.30221124\\\\ -0.73494952\\\\ -0.61947623\\\\ -0.05564597\\\\  1.13357467\\\\\n",
    "        5.85512242\\\\ -0.17019611\\\\ -0.22347251\\\\  0.1793794\\\\ -0.1386147\\\\\n",
    "       -0.6795051\\\\  5.04486389\\\\ -0.67415456\\\\  0.37759932\\\\ -3.26873492\\\\\n",
    "        2.92415638 \\end{bmatrix}$$"
   ]
  },
  {
   "cell_type": "code",
   "execution_count": 236,
   "metadata": {},
   "outputs": [],
   "source": [
    "current_w = initial_w\n",
    "initial_lamb = 0.00001\n",
    "current_lambk = 0.00001\n",
    "next_loss = 0\n",
    "current_loss = float('inf') \n",
    "loss_per_it = []"
   ]
  },
  {
   "cell_type": "code",
   "execution_count": 237,
   "metadata": {},
   "outputs": [],
   "source": [
    "while current_loss > 243:\n",
    "    next_w = getNextW(X_train, current_w, initial_lamb, current_lambk)\n",
    "    next_loss = loss(X_train, next_w, initial_lamb)\n",
    "    if (next_loss < current_loss):\n",
    "        current_w = next_w\n",
    "        current_lambk = 0.8 * current_lambk\n",
    "        current_loss = next_loss\n",
    "    else:\n",
    "        current_lambk = 2 * current_lambk\n",
    "    loss_per_it.append(current_loss)"
   ]
  },
  {
   "cell_type": "code",
   "execution_count": 238,
   "metadata": {},
   "outputs": [
    {
     "data": {
      "text/plain": [
       "array([-4.30221124, -0.73494952, -0.61947623, -0.05564597,  1.13357467,\n",
       "        5.85512242, -0.17019611, -0.22347251,  0.1793794 , -0.1386147 ,\n",
       "       -0.6795051 ,  5.04486389, -0.67415456,  0.37759932, -3.26873492,\n",
       "        2.92415638])"
      ]
     },
     "execution_count": 238,
     "metadata": {},
     "output_type": "execute_result"
    }
   ],
   "source": [
    "current_w"
   ]
  },
  {
   "cell_type": "code",
   "execution_count": 239,
   "metadata": {},
   "outputs": [],
   "source": [
    "ws.append(current_w)"
   ]
  },
  {
   "cell_type": "code",
   "execution_count": 247,
   "metadata": {},
   "outputs": [
    {
     "data": {
      "image/png": "[encoded data removed]",
      "text/plain": [
       "<Figure size 432x288 with 1 Axes>"
      ]
     },
     "metadata": {
      "needs_background": "light"
     },
     "output_type": "display_data"
    }
   ],
   "source": [
    "plt.plot(loss_per_it)\n",
    "plt.ylabel('training loss')\n",
    "plt.xlabel('iterations')\n",
    "plt.title(r'$\\lambda = 10^{-5}$')\n",
    "plt.axis([0, len(loss_per_it), 0, max(loss_per_it) + 100])\n",
    "plt.show()"
   ]
  },
  {
   "cell_type": "code",
   "execution_count": 248,
   "metadata": {},
   "outputs": [],
   "source": [
    "it5 = loss_per_it"
   ]
  },
  {
   "cell_type": "markdown",
   "metadata": {},
   "source": [
    "Using $\\lambda = 10^{-4}$, we get $$\\mathbf{w} = \\begin{bmatrix} -4.30222096\\\\ -0.73499779\\\\ -0.61952559\\\\ -0.05558174\\\\  1.13366574\\\\\n",
    "        5.85550713\\\\ -0.17014993\\\\ -0.2234508\\\\ 0.17937842\\\\ -0.13838766\\\\\n",
    "       -0.67968638\\\\  5.04304976\\\\ -0.67408738\\\\  0.37742614\\\\ -3.26789607\\\\\n",
    "        2.9230314 \\end{bmatrix}$$"
   ]
  },
  {
   "cell_type": "code",
   "execution_count": 249,
   "metadata": {},
   "outputs": [],
   "source": [
    "current_w = initial_w\n",
    "initial_lamb = 0.0001\n",
    "current_lambk = 0.00001\n",
    "next_loss = 0\n",
    "current_loss = float('inf') \n",
    "loss_per_it = []"
   ]
  },
  {
   "cell_type": "code",
   "execution_count": 250,
   "metadata": {},
   "outputs": [],
   "source": [
    "while current_loss > 243:\n",
    "    next_w = getNextW(X_train, current_w, initial_lamb, current_lambk)\n",
    "    next_loss = loss(X_train, next_w, initial_lamb)\n",
    "    if (next_loss < current_loss):\n",
    "        current_w = next_w\n",
    "        current_lambk = 0.8 * current_lambk\n",
    "        current_loss = next_loss\n",
    "    else:\n",
    "        current_lambk = 2 * current_lambk\n",
    "    loss_per_it.append(current_loss)"
   ]
  },
  {
   "cell_type": "code",
   "execution_count": 251,
   "metadata": {},
   "outputs": [
    {
     "data": {
      "text/plain": [
       "array([-4.30222096, -0.73499779, -0.61952559, -0.05558174,  1.13366574,\n",
       "        5.85550713, -0.17014993, -0.2234508 ,  0.17937842, -0.13838766,\n",
       "       -0.67968638,  5.04304976, -0.67408738,  0.37742614, -3.26789607,\n",
       "        2.9230314 ])"
      ]
     },
     "execution_count": 251,
     "metadata": {},
     "output_type": "execute_result"
    }
   ],
   "source": [
    "current_w"
   ]
  },
  {
   "cell_type": "code",
   "execution_count": 252,
   "metadata": {},
   "outputs": [],
   "source": [
    "ws.append(current_w)"
   ]
  },
  {
   "cell_type": "code",
   "execution_count": 254,
   "metadata": {},
   "outputs": [
    {
     "data": {
      "image/png": "[encoded data removed]",
      "text/plain": [
       "<Figure size 432x288 with 1 Axes>"
      ]
     },
     "metadata": {
      "needs_background": "light"
     },
     "output_type": "display_data"
    }
   ],
   "source": [
    "plt.plot(loss_per_it)\n",
    "plt.ylabel('training loss')\n",
    "plt.xlabel('iterations')\n",
    "plt.title(r'$\\lambda = 10^{-4}$')\n",
    "plt.axis([0, len(loss_per_it), 0, max(loss_per_it) + 100])\n",
    "plt.show()"
   ]
  },
  {
   "cell_type": "code",
   "execution_count": 255,
   "metadata": {},
   "outputs": [],
   "source": [
    "it4 = loss_per_it"
   ]
  },
  {
   "cell_type": "markdown",
   "metadata": {},
   "source": [
    "Using $\\lambda = 10^{-3}$, we get $$\\mathbf{w} = \\begin{bmatrix} -4.30235812\\\\ -0.73547221\\\\ -0.61996879\\\\ -0.05499167\\\\  1.1344861\\\\\n",
    "        5.85935465\\\\ -0.1697259\\\\ -0.22323619\\\\  0.17936213\\\\ -0.13628603\\\\\n",
    "       -0.68137366\\\\  5.02546829\\\\ -0.67294849\\\\  0.37596614\\\\ -3.25946235\\\\\n",
    "        2.91262187 \\end{bmatrix}$$"
   ]
  },
  {
   "cell_type": "code",
   "execution_count": 256,
   "metadata": {},
   "outputs": [],
   "source": [
    "current_w = initial_w\n",
    "initial_lamb = 0.001\n",
    "current_lambk = 0.00001\n",
    "next_loss = 0\n",
    "current_loss = float('inf') \n",
    "loss_per_it = []"
   ]
  },
  {
   "cell_type": "code",
   "execution_count": 257,
   "metadata": {},
   "outputs": [],
   "source": [
    "while current_loss > 243:\n",
    "    next_w = getNextW(X_train, current_w, initial_lamb, current_lambk)\n",
    "    next_loss = loss(X_train, next_w, initial_lamb)\n",
    "    if (next_loss < current_loss):\n",
    "        current_w = next_w\n",
    "        current_lambk = 0.8 * current_lambk\n",
    "        current_loss = next_loss\n",
    "    else:\n",
    "        current_lambk = 2 * current_lambk\n",
    "    loss_per_it.append(current_loss)"
   ]
  },
  {
   "cell_type": "code",
   "execution_count": 258,
   "metadata": {},
   "outputs": [
    {
     "data": {
      "text/plain": [
       "array([-4.30235812, -0.73547221, -0.61996879, -0.05499167,  1.1344861 ,\n",
       "        5.85935465, -0.1697259 , -0.22323619,  0.17936213, -0.13628603,\n",
       "       -0.68137366,  5.02546829, -0.67294849,  0.37596614, -3.25946235,\n",
       "        2.91262187])"
      ]
     },
     "execution_count": 258,
     "metadata": {},
     "output_type": "execute_result"
    }
   ],
   "source": [
    "current_w"
   ]
  },
  {
   "cell_type": "code",
   "execution_count": 259,
   "metadata": {},
   "outputs": [],
   "source": [
    "ws.append(current_w)"
   ]
  },
  {
   "cell_type": "code",
   "execution_count": 262,
   "metadata": {},
   "outputs": [
    {
     "data": {
      "image/png": "[encoded data removed]",
      "text/plain": [
       "<Figure size 432x288 with 1 Axes>"
      ]
     },
     "metadata": {
      "needs_background": "light"
     },
     "output_type": "display_data"
    }
   ],
   "source": [
    "plt.plot(loss_per_it)\n",
    "plt.ylabel('training loss')\n",
    "plt.xlabel('iterations')\n",
    "plt.title(r'$\\lambda = 10^{-3}$')\n",
    "plt.axis([0, len(loss_per_it), 0, max(loss_per_it) + 100])\n",
    "plt.show()"
   ]
  },
  {
   "cell_type": "code",
   "execution_count": 263,
   "metadata": {},
   "outputs": [],
   "source": [
    "it3 = loss_per_it"
   ]
  },
  {
   "cell_type": "code",
   "execution_count": 264,
   "metadata": {},
   "outputs": [
    {
     "name": "stdout",
     "output_type": "stream",
     "text": [
      "38 38 38\n"
     ]
    }
   ],
   "source": [
    "print(len(it5), len(it4), len(it3))"
   ]
  },
  {
   "cell_type": "markdown",
   "metadata": {},
   "source": [
    "Interestingly, with this initial starting $\\mathbf{w}$, the final values of $\\mathbf{w}$ ended up being similar. They would likely start to diverge from each other more if the threshold for stopping was changed (but it was not for consistency)."
   ]
  },
  {
   "cell_type": "markdown",
   "metadata": {},
   "source": [
    "#### 3c) (ii)\n",
    "Define the mean squared error to be\n",
    "$$ \\frac{1}{N} \\sum_{n=1}^{N} (f_{\\mathbf{w}}(x^{(N)}) - y^{(n)})^2 $$"
   ]
  },
  {
   "cell_type": "markdown",
   "metadata": {},
   "source": [
    "### First initial w\n",
    "<table style=\"width:80%\">\n",
    "    <tr>\n",
    "        <th>\n",
    "        <th>$\\lambda = 10^{-5}$</th>\n",
    "        <th>$\\lambda = 10^{-4}$</th>\n",
    "        <th>$\\lambda = 10^{-3}$</th> \n",
    "    </tr>\n",
    "    <tr>\n",
    "        <td>iterations to converge</td>\n",
    "        <td>821</td>\n",
    "        <td>2988</td>\n",
    "        <td>242</td>\n",
    "      </tr>\n",
    "      <tr>\n",
    "        <td>training MSE</td>\n",
    "        <td>0.48595</td>\n",
    "        <td>0.48597</td>\n",
    "        <td>0.48588</td>\n",
    "      </tr>\n",
    "      <tr>\n",
    "        <td>testing MSE, N = 50</td>\n",
    "        <td>0.38600</td>\n",
    "        <td>0.38644</td>\n",
    "        <td>0.38466</td>\n",
    "      </tr>\n",
    "      <tr>\n",
    "        <td>testing MSE, N = 150</td>\n",
    "        <td>0.59064</td>\n",
    "        <td>0.59033</td>\n",
    "        <td>0.59764</td>\n",
    "      </tr>\n",
    "      <tr>\n",
    "        <td>testing MSE, N = 250</td>\n",
    "        <td>0.55723</td>\n",
    "        <td>0.55676</td>\n",
    "        <td>0.55885</td>\n",
    "      </tr>\n",
    "</table>"
   ]
  },
  {
   "cell_type": "markdown",
   "metadata": {},
   "source": [
    "The MSE seems to depend more on the actual set of numbers than lambda. All values of lambda produced a similar MSE for each test set. Having a similar MSE for each test set is expected though, since they trained on the same training set."
   ]
  },
  {
   "cell_type": "code",
   "execution_count": 266,
   "metadata": {},
   "outputs": [],
   "source": [
    "X_test_50 = 4 * np.random.rand(50, 3) - 2\n",
    "X_test_150 = 4 * np.random.rand(150, 3) - 2\n",
    "X_test_250 = 4 * np.random.rand(250, 3) - 2"
   ]
  },
  {
   "cell_type": "code",
   "execution_count": 269,
   "metadata": {},
   "outputs": [
    {
     "data": {
      "text/plain": [
       "0.48595085283672873"
      ]
     },
     "execution_count": 269,
     "metadata": {},
     "output_type": "execute_result"
    }
   ],
   "source": [
    "sum([r ** 2 for r in rbold(X_train, ws[0])]) / len(X_train)"
   ]
  },
  {
   "cell_type": "code",
   "execution_count": 270,
   "metadata": {},
   "outputs": [
    {
     "data": {
      "text/plain": [
       "0.48597180200078954"
      ]
     },
     "execution_count": 270,
     "metadata": {},
     "output_type": "execute_result"
    }
   ],
   "source": [
    "sum([r ** 2 for r in rbold(X_train, ws[1])]) / len(X_train)"
   ]
  },
  {
   "cell_type": "code",
   "execution_count": 271,
   "metadata": {},
   "outputs": [
    {
     "data": {
      "text/plain": [
       "0.4858757559429372"
      ]
     },
     "execution_count": 271,
     "metadata": {},
     "output_type": "execute_result"
    }
   ],
   "source": [
    "sum([r ** 2 for r in rbold(X_train, ws[2])]) / len(X_train)"
   ]
  },
  {
   "cell_type": "code",
   "execution_count": 272,
   "metadata": {},
   "outputs": [
    {
     "data": {
      "text/plain": [
       "0.38598757255699306"
      ]
     },
     "execution_count": 272,
     "metadata": {},
     "output_type": "execute_result"
    }
   ],
   "source": [
    "sum([r ** 2 for r in rbold(X_test_50, ws[0])]) / len(X_test_50)"
   ]
  },
  {
   "cell_type": "code",
   "execution_count": 273,
   "metadata": {},
   "outputs": [
    {
     "data": {
      "text/plain": [
       "0.386443268978512"
      ]
     },
     "execution_count": 273,
     "metadata": {},
     "output_type": "execute_result"
    }
   ],
   "source": [
    "sum([r ** 2 for r in rbold(X_test_50, ws[1])]) / len(X_test_50)"
   ]
  },
  {
   "cell_type": "code",
   "execution_count": 274,
   "metadata": {},
   "outputs": [
    {
     "data": {
      "text/plain": [
       "0.38465739657473463"
      ]
     },
     "execution_count": 274,
     "metadata": {},
     "output_type": "execute_result"
    }
   ],
   "source": [
    "sum([r ** 2 for r in rbold(X_test_50, ws[2])]) / len(X_test_50)"
   ]
  },
  {
   "cell_type": "code",
   "execution_count": 275,
   "metadata": {},
   "outputs": [
    {
     "data": {
      "text/plain": [
       "0.5906428947232691"
      ]
     },
     "execution_count": 275,
     "metadata": {},
     "output_type": "execute_result"
    }
   ],
   "source": [
    "sum([r ** 2 for r in rbold(X_test_150, ws[0])]) / len(X_test_150)"
   ]
  },
  {
   "cell_type": "code",
   "execution_count": 276,
   "metadata": {},
   "outputs": [
    {
     "data": {
      "text/plain": [
       "0.5903295507295581"
      ]
     },
     "execution_count": 276,
     "metadata": {},
     "output_type": "execute_result"
    }
   ],
   "source": [
    "sum([r ** 2 for r in rbold(X_test_150, ws[1])]) / len(X_test_150)"
   ]
  },
  {
   "cell_type": "code",
   "execution_count": 277,
   "metadata": {},
   "outputs": [
    {
     "data": {
      "text/plain": [
       "0.5976374796799354"
      ]
     },
     "execution_count": 277,
     "metadata": {},
     "output_type": "execute_result"
    }
   ],
   "source": [
    "sum([r ** 2 for r in rbold(X_test_150, ws[2])]) / len(X_test_150)"
   ]
  },
  {
   "cell_type": "code",
   "execution_count": 278,
   "metadata": {},
   "outputs": [
    {
     "data": {
      "text/plain": [
       "0.5572260041304872"
      ]
     },
     "execution_count": 278,
     "metadata": {},
     "output_type": "execute_result"
    }
   ],
   "source": [
    "sum([r ** 2 for r in rbold(X_test_250, ws[0])]) / len(X_test_250)"
   ]
  },
  {
   "cell_type": "code",
   "execution_count": 279,
   "metadata": {},
   "outputs": [
    {
     "data": {
      "text/plain": [
       "0.5567634325968317"
      ]
     },
     "execution_count": 279,
     "metadata": {},
     "output_type": "execute_result"
    }
   ],
   "source": [
    "sum([r ** 2 for r in rbold(X_test_250, ws[1])]) / len(X_test_250)"
   ]
  },
  {
   "cell_type": "code",
   "execution_count": 280,
   "metadata": {},
   "outputs": [
    {
     "data": {
      "text/plain": [
       "0.558846732419592"
      ]
     },
     "execution_count": 280,
     "metadata": {},
     "output_type": "execute_result"
    }
   ],
   "source": [
    "sum([r ** 2 for r in rbold(X_test_250, ws[2])]) / len(X_test_250)"
   ]
  },
  {
   "cell_type": "markdown",
   "metadata": {},
   "source": [
    "### Second initial w\n",
    "<table style=\"width:80%\">\n",
    "    <tr>\n",
    "        <th>\n",
    "        <th>$\\lambda = 10^{-5}$</th>\n",
    "        <th>$\\lambda = 10^{-4}$</th>\n",
    "        <th>$\\lambda = 10^{-3}$</th> \n",
    "    </tr>\n",
    "    <tr>\n",
    "        <td>iterations to converge</td>\n",
    "        <td>38</td>\n",
    "        <td>38</td>\n",
    "        <td>38</td>\n",
    "      </tr>\n",
    "      <tr>\n",
    "        <td>training MSE</td>\n",
    "        <td>0.46091</td>\n",
    "        <td>0.46090</td>\n",
    "        <td>0.46083</td>\n",
    "      </tr>\n",
    "      <tr>\n",
    "        <td>testing MSE, N = 50</td>\n",
    "        <td>0.37958</td>\n",
    "        <td>0.37955</td>\n",
    "        <td>0.37930</td>\n",
    "      </tr>\n",
    "      <tr>\n",
    "        <td>testing MSE, N = 150</td>\n",
    "        <td>0.53335</td>\n",
    "        <td>0.53335</td>\n",
    "        <td>0.53332</td>\n",
    "      </tr>\n",
    "      <tr>\n",
    "        <td>testing MSE, N = 250</td>\n",
    "        <td>0.56304</td>\n",
    "        <td>0.56302</td>\n",
    "        <td>0.56293</td>\n",
    "      </tr>\n",
    "</table>"
   ]
  },
  {
   "cell_type": "markdown",
   "metadata": {},
   "source": [
    "Again, the MSE seems to depend more on the actual set of numbers than lambda. In this case though, it seems that the larger value of lambda resulted in a slightly smaller MSE across all test sets and the training set."
   ]
  },
  {
   "cell_type": "code",
   "execution_count": 281,
   "metadata": {},
   "outputs": [
    {
     "data": {
      "text/plain": [
       "0.46091102248528765"
      ]
     },
     "execution_count": 281,
     "metadata": {},
     "output_type": "execute_result"
    }
   ],
   "source": [
    "sum([r ** 2 for r in rbold(X_train, ws[3])]) / len(X_train)"
   ]
  },
  {
   "cell_type": "code",
   "execution_count": 282,
   "metadata": {},
   "outputs": [
    {
     "data": {
      "text/plain": [
       "0.4609022114197272"
      ]
     },
     "execution_count": 282,
     "metadata": {},
     "output_type": "execute_result"
    }
   ],
   "source": [
    "sum([r ** 2 for r in rbold(X_train, ws[4])]) / len(X_train)"
   ]
  },
  {
   "cell_type": "code",
   "execution_count": 283,
   "metadata": {},
   "outputs": [
    {
     "data": {
      "text/plain": [
       "0.4608260301377086"
      ]
     },
     "execution_count": 283,
     "metadata": {},
     "output_type": "execute_result"
    }
   ],
   "source": [
    "sum([r ** 2 for r in rbold(X_train, ws[5])]) / len(X_train)"
   ]
  },
  {
   "cell_type": "code",
   "execution_count": 284,
   "metadata": {},
   "outputs": [
    {
     "data": {
      "text/plain": [
       "0.3795846816861358"
      ]
     },
     "execution_count": 284,
     "metadata": {},
     "output_type": "execute_result"
    }
   ],
   "source": [
    "sum([r ** 2 for r in rbold(X_test_50, ws[3])]) / len(X_test_50)"
   ]
  },
  {
   "cell_type": "code",
   "execution_count": 285,
   "metadata": {},
   "outputs": [
    {
     "data": {
      "text/plain": [
       "0.3795548226356842"
      ]
     },
     "execution_count": 285,
     "metadata": {},
     "output_type": "execute_result"
    }
   ],
   "source": [
    "sum([r ** 2 for r in rbold(X_test_50, ws[4])]) / len(X_test_50)"
   ]
  },
  {
   "cell_type": "code",
   "execution_count": 286,
   "metadata": {},
   "outputs": [
    {
     "data": {
      "text/plain": [
       "0.3793023776193472"
      ]
     },
     "execution_count": 286,
     "metadata": {},
     "output_type": "execute_result"
    }
   ],
   "source": [
    "sum([r ** 2 for r in rbold(X_test_50, ws[5])]) / len(X_test_50)"
   ]
  },
  {
   "cell_type": "code",
   "execution_count": 287,
   "metadata": {},
   "outputs": [
    {
     "data": {
      "text/plain": [
       "0.5333538448330938"
      ]
     },
     "execution_count": 287,
     "metadata": {},
     "output_type": "execute_result"
    }
   ],
   "source": [
    "sum([r ** 2 for r in rbold(X_test_150, ws[3])]) / len(X_test_150)"
   ]
  },
  {
   "cell_type": "code",
   "execution_count": 288,
   "metadata": {},
   "outputs": [
    {
     "data": {
      "text/plain": [
       "0.5333522015377999"
      ]
     },
     "execution_count": 288,
     "metadata": {},
     "output_type": "execute_result"
    }
   ],
   "source": [
    "sum([r ** 2 for r in rbold(X_test_150, ws[4])]) / len(X_test_150)"
   ]
  },
  {
   "cell_type": "code",
   "execution_count": 289,
   "metadata": {},
   "outputs": [
    {
     "data": {
      "text/plain": [
       "0.5333246537317127"
      ]
     },
     "execution_count": 289,
     "metadata": {},
     "output_type": "execute_result"
    }
   ],
   "source": [
    "sum([r ** 2 for r in rbold(X_test_150, ws[5])]) / len(X_test_150)"
   ]
  },
  {
   "cell_type": "code",
   "execution_count": 290,
   "metadata": {},
   "outputs": [
    {
     "data": {
      "text/plain": [
       "0.5630355359955657"
      ]
     },
     "execution_count": 290,
     "metadata": {},
     "output_type": "execute_result"
    }
   ],
   "source": [
    "sum([r ** 2 for r in rbold(X_test_250, ws[3])]) / len(X_test_250)"
   ]
  },
  {
   "cell_type": "code",
   "execution_count": 291,
   "metadata": {},
   "outputs": [
    {
     "data": {
      "text/plain": [
       "0.5630238720224313"
      ]
     },
     "execution_count": 291,
     "metadata": {},
     "output_type": "execute_result"
    }
   ],
   "source": [
    "sum([r ** 2 for r in rbold(X_test_250, ws[4])]) / len(X_test_250)"
   ]
  },
  {
   "cell_type": "code",
   "execution_count": 292,
   "metadata": {},
   "outputs": [
    {
     "data": {
      "text/plain": [
       "0.5629267412768284"
      ]
     },
     "execution_count": 292,
     "metadata": {},
     "output_type": "execute_result"
    }
   ],
   "source": [
    "sum([r ** 2 for r in rbold(X_test_250, ws[5])]) / len(X_test_250)"
   ]
  },
  {
   "cell_type": "markdown",
   "metadata": {},
   "source": [
    "#### 3c) (iii)\n",
    "I will reuse code from the first part by redefining g. Everything else will remain the same, and it can be easily reused since most of the code was defined in functions. Let $g(\\mathbf{x}) = x_1(x_2x_3 + 1)$."
   ]
  },
  {
   "cell_type": "code",
   "execution_count": 302,
   "metadata": {},
   "outputs": [],
   "source": [
    "def g(x):\n",
    "    return x[0] * x[1] * x[2] + x[0]"
   ]
  },
  {
   "cell_type": "markdown",
   "metadata": {},
   "source": [
    "Using $\\lambda = 10^{-5}$, we get $$\\mathbf{w} = \\begin{bmatrix} -11.4404042\\\\-0.189175582\\\\  0.287375079\\\\ 0.430279584\\\\\n",
    "        0.0272918005\\\\  5.55112985\\\\ -0.538192813\\\\ -0.328367064\\\\\n",
    "       -0.380108476\\\\  0.0332941323\\\\  10.6450964\\\\  0.185915768\\\\\n",
    "        0.442882756\\\\ -0.310089557\\\\  0.00991955507\\\\  0.0212092302 \\end{bmatrix}$$"
   ]
  },
  {
   "cell_type": "code",
   "execution_count": 303,
   "metadata": {},
   "outputs": [],
   "source": [
    "initial_w = 2 * np.random.rand(16) - 1"
   ]
  },
  {
   "cell_type": "code",
   "execution_count": 311,
   "metadata": {},
   "outputs": [],
   "source": [
    "current_w = initial_w\n",
    "initial_lamb = 0.00001\n",
    "current_lambk = 0.00001\n",
    "next_loss = 0\n",
    "current_loss = float('inf') \n",
    "loss_per_it = []"
   ]
  },
  {
   "cell_type": "code",
   "execution_count": 312,
   "metadata": {},
   "outputs": [],
   "source": [
    "while current_loss > 260:\n",
    "    next_w = getNextW(X_train, current_w, initial_lamb, current_lambk)\n",
    "    next_loss = loss(X_train, next_w, initial_lamb)\n",
    "    if (next_loss < current_loss):\n",
    "        current_w = next_w\n",
    "        current_lambk = 0.8 * current_lambk\n",
    "        current_loss = next_loss\n",
    "    else:\n",
    "        current_lambk = 2 * current_lambk\n",
    "    loss_per_it.append(current_loss)"
   ]
  },
  {
   "cell_type": "code",
   "execution_count": 313,
   "metadata": {},
   "outputs": [
    {
     "data": {
      "text/plain": [
       "array([-1.14404042e+01, -1.89175582e-01,  2.87375079e-01, -4.30279584e-01,\n",
       "        2.72918005e-02,  5.55112985e+00, -5.38192813e-01, -3.28367064e-01,\n",
       "       -3.80108476e-01,  3.32941323e-02,  1.06450964e+01,  1.85915768e-01,\n",
       "        4.42882756e-01, -3.10089557e-01,  9.91955507e-03,  2.12092302e-02])"
      ]
     },
     "execution_count": 313,
     "metadata": {},
     "output_type": "execute_result"
    }
   ],
   "source": [
    "current_w"
   ]
  },
  {
   "cell_type": "code",
   "execution_count": 314,
   "metadata": {},
   "outputs": [],
   "source": [
    "ws = [current_w]"
   ]
  },
  {
   "cell_type": "code",
   "execution_count": 315,
   "metadata": {},
   "outputs": [
    {
     "data": {
      "image/png": "[encoded data removed]",
      "text/plain": [
       "<Figure size 432x288 with 1 Axes>"
      ]
     },
     "metadata": {
      "needs_background": "light"
     },
     "output_type": "display_data"
    }
   ],
   "source": [
    "plt.plot(loss_per_it)\n",
    "plt.ylabel('training loss')\n",
    "plt.xlabel('iterations')\n",
    "plt.title(r'$\\lambda = 10^{-5}$')\n",
    "plt.axis([0, 80, 0, max(loss_per_it)])\n",
    "plt.show()"
   ]
  },
  {
   "cell_type": "code",
   "execution_count": 316,
   "metadata": {},
   "outputs": [],
   "source": [
    "it5 = loss_per_it"
   ]
  },
  {
   "cell_type": "markdown",
   "metadata": {},
   "source": [
    "Using $\\lambda = 10^{-4}$, we get $$\\mathbf{w} = \\begin{bmatrix} -11.4998195\\\\ -0.188151876\\\\  0.287655598\\\\ -0.429631226\\\\\n",
    "        0.0272500120\\\\  5.55665684\\\\ -0.537550290\\\\ -0.328083349\\\\\n",
    "       -0.379607898\\\\  0.0332982675\\\\  10.7051313\\\\  0.184821159\\\\\n",
    "        0.442331275\\\\ -0.310083187\\\\  0.00999130595\\\\  0.0208810392 \\end{bmatrix}$$"
   ]
  },
  {
   "cell_type": "code",
   "execution_count": 317,
   "metadata": {},
   "outputs": [],
   "source": [
    "current_w = initial_w\n",
    "initial_lamb = 0.0001\n",
    "current_lambk = 0.00001\n",
    "next_loss = 0\n",
    "current_loss = float('inf') \n",
    "loss_per_it = []"
   ]
  },
  {
   "cell_type": "code",
   "execution_count": 319,
   "metadata": {},
   "outputs": [],
   "source": [
    "while current_loss > 260:\n",
    "    next_w = getNextW(X_train, current_w, initial_lamb, current_lambk)\n",
    "    next_loss = loss(X_train, next_w, initial_lamb)\n",
    "    if (next_loss < current_loss):\n",
    "        current_w = next_w\n",
    "        current_lambk = 0.8 * current_lambk\n",
    "        current_loss = next_loss\n",
    "    else:\n",
    "        current_lambk = 2 * current_lambk\n",
    "    loss_per_it.append(current_loss)"
   ]
  },
  {
   "cell_type": "code",
   "execution_count": 320,
   "metadata": {},
   "outputs": [
    {
     "data": {
      "text/plain": [
       "array([-1.14998195e+01, -1.88151876e-01,  2.87655598e-01, -4.29631226e-01,\n",
       "        2.72500120e-02,  5.55665684e+00, -5.37550290e-01, -3.28083349e-01,\n",
       "       -3.79607898e-01,  3.32982675e-02,  1.07051313e+01,  1.84821159e-01,\n",
       "        4.42331275e-01, -3.10083187e-01,  9.99130595e-03,  2.08810392e-02])"
      ]
     },
     "execution_count": 320,
     "metadata": {},
     "output_type": "execute_result"
    }
   ],
   "source": [
    "current_w"
   ]
  },
  {
   "cell_type": "code",
   "execution_count": 321,
   "metadata": {},
   "outputs": [],
   "source": [
    "ws.append(current_w)"
   ]
  },
  {
   "cell_type": "code",
   "execution_count": 322,
   "metadata": {},
   "outputs": [
    {
     "data": {
      "image/png": "[encoded data removed]",
      "text/plain": [
       "<Figure size 432x288 with 1 Axes>"
      ]
     },
     "metadata": {
      "needs_background": "light"
     },
     "output_type": "display_data"
    }
   ],
   "source": [
    "plt.plot(loss_per_it)\n",
    "plt.ylabel('training loss')\n",
    "plt.xlabel('iterations')\n",
    "plt.title(r'$\\lambda = 10^{-4}$')\n",
    "plt.axis([0, 80, 0, max(loss_per_it)])\n",
    "plt.show()"
   ]
  },
  {
   "cell_type": "code",
   "execution_count": 323,
   "metadata": {},
   "outputs": [],
   "source": [
    "it4 = loss_per_it"
   ]
  },
  {
   "cell_type": "markdown",
   "metadata": {},
   "source": [
    "Using $\\lambda = 10^{-3}$, we get $$\\mathbf{w} = \\begin{bmatrix} 4.90389477\\\\ -0.55544577\\\\ -0.3618162\\\\ -0.39208929\\\\  0.03514988\\\\\n",
    "       11.87338875\\\\  0.16640926\\\\ -0.32008879\\\\  0.42476737\\\\ -0.02842737\\\\\n",
    "       11.22268267\\\\  0.16981757\\\\  0.46280171\\\\ -0.32556998\\\\  0.01331923\\\\\n",
    "        0.01415385 \\end{bmatrix}$$"
   ]
  },
  {
   "cell_type": "code",
   "execution_count": 327,
   "metadata": {},
   "outputs": [],
   "source": [
    "current_w = initial_w\n",
    "initial_lamb = 0.001\n",
    "current_lambk = 0.00001\n",
    "next_loss = 0\n",
    "current_loss = float('inf') \n",
    "loss_per_it = []"
   ]
  },
  {
   "cell_type": "code",
   "execution_count": 328,
   "metadata": {},
   "outputs": [],
   "source": [
    "while current_loss > 260:\n",
    "    next_w = getNextW(X_train, current_w, initial_lamb, current_lambk)\n",
    "    next_loss = loss(X_train, next_w, initial_lamb)\n",
    "    if (next_loss < current_loss):\n",
    "        current_w = next_w\n",
    "        current_lambk = 0.8 * current_lambk\n",
    "        current_loss = next_loss\n",
    "    else:\n",
    "        current_lambk = 2 * current_lambk\n",
    "    loss_per_it.append(current_loss)"
   ]
  },
  {
   "cell_type": "code",
   "execution_count": 329,
   "metadata": {},
   "outputs": [
    {
     "data": {
      "text/plain": [
       "array([ 4.90389477, -0.55544577, -0.3618162 , -0.39208929,  0.03514988,\n",
       "       11.87338875,  0.16640926, -0.32008879,  0.42476737, -0.02842737,\n",
       "       11.22268267,  0.16981757,  0.46280171, -0.32556998,  0.01331923,\n",
       "        0.01415385])"
      ]
     },
     "execution_count": 329,
     "metadata": {},
     "output_type": "execute_result"
    }
   ],
   "source": [
    "current_w"
   ]
  },
  {
   "cell_type": "code",
   "execution_count": 330,
   "metadata": {},
   "outputs": [],
   "source": [
    "ws.append(current_w)"
   ]
  },
  {
   "cell_type": "code",
   "execution_count": 331,
   "metadata": {},
   "outputs": [
    {
     "data": {
      "image/png": "[encoded data removed]",
      "text/plain": [
       "<Figure size 432x288 with 1 Axes>"
      ]
     },
     "metadata": {
      "needs_background": "light"
     },
     "output_type": "display_data"
    }
   ],
   "source": [
    "plt.plot(loss_per_it)\n",
    "plt.ylabel('training loss')\n",
    "plt.xlabel('iterations')\n",
    "plt.title(r'$\\lambda = 10^{-3}$')\n",
    "plt.axis([0, 80, 0, max(loss_per_it)])\n",
    "plt.show()"
   ]
  },
  {
   "cell_type": "code",
   "execution_count": 332,
   "metadata": {},
   "outputs": [],
   "source": [
    "it3 = loss_per_it"
   ]
  },
  {
   "cell_type": "code",
   "execution_count": 333,
   "metadata": {},
   "outputs": [
    {
     "name": "stdout",
     "output_type": "stream",
     "text": [
      "631 364 1383\n"
     ]
    }
   ],
   "source": [
    "print(len(it5), len(it4), len(it3))"
   ]
  },
  {
   "cell_type": "markdown",
   "metadata": {},
   "source": [
    "For $\\lambda = 10^{-3}$, the values of $\\mathbf{w}$ were much more regularized, and also very different from when $\\lambda = 10^{-4}$ and $\\lambda = 10^{-5}$ were used."
   ]
  },
  {
   "cell_type": "markdown",
   "metadata": {},
   "source": [
    "Testing using a different initial  𝐰 :"
   ]
  },
  {
   "cell_type": "markdown",
   "metadata": {},
   "source": [
    "Using $\\lambda = 10^{-5}$, we get $$\\mathbf{w} = \\begin{bmatrix} -10.6490076\\\\ -0.185736247\\\\ -0.448318193\\\\  0.308336863\\\\\n",
    "       -0.0102702130\\\\  11.4443527\\\\  0.188177225\\\\ -0.290196633\\\\\n",
    "        0.426323379\\\\ -0.0276104336\\\\ -5.54683651\\\\  0.535198975\\\\\n",
    "        0.330934917\\\\  0.377110756\\\\ -0.0329889833\\\\  0.0213624261 \\end{bmatrix}$$"
   ]
  },
  {
   "cell_type": "code",
   "execution_count": 388,
   "metadata": {},
   "outputs": [],
   "source": [
    "initial_w = 2 * np.random.rand(16) - 1"
   ]
  },
  {
   "cell_type": "code",
   "execution_count": 398,
   "metadata": {},
   "outputs": [],
   "source": [
    "current_w = initial_w\n",
    "initial_lamb = 0.00001\n",
    "current_lambk = 0.00001\n",
    "next_loss = 0\n",
    "current_loss = loss(X_train, initial_w, initial_lamb)\n",
    "loss_per_it = []"
   ]
  },
  {
   "cell_type": "code",
   "execution_count": 399,
   "metadata": {},
   "outputs": [],
   "source": [
    "while current_loss > 260:\n",
    "    next_w = getNextW(X_train, current_w, initial_lamb, current_lambk)\n",
    "    next_loss = loss(X_train, next_w, initial_lamb)\n",
    "    if (next_loss < current_loss):\n",
    "        current_w = next_w\n",
    "        current_lambk = 0.8 * current_lambk\n",
    "        current_loss = next_loss\n",
    "    else:\n",
    "        current_lambk = 2 * current_lambk\n",
    "    loss_per_it.append(current_loss)"
   ]
  },
  {
   "cell_type": "code",
   "execution_count": 400,
   "metadata": {},
   "outputs": [
    {
     "data": {
      "text/plain": [
       "array([-1.06490076e+01, -1.85736247e-01, -4.48318193e-01,  3.08336863e-01,\n",
       "       -1.02702130e-02,  1.14443527e+01,  1.88177225e-01, -2.90196633e-01,\n",
       "        4.26323379e-01, -2.76104336e-02, -5.54683651e+00,  5.35198975e-01,\n",
       "        3.30934917e-01,  3.77110756e-01, -3.29889833e-02,  2.13624261e-02])"
      ]
     },
     "execution_count": 400,
     "metadata": {},
     "output_type": "execute_result"
    }
   ],
   "source": [
    "current_w"
   ]
  },
  {
   "cell_type": "code",
   "execution_count": 401,
   "metadata": {},
   "outputs": [],
   "source": [
    "ws.append(current_w)"
   ]
  },
  {
   "cell_type": "code",
   "execution_count": 404,
   "metadata": {},
   "outputs": [
    {
     "data": {
      "image/png": "[encoded data removed]",
      "text/plain": [
       "<Figure size 432x288 with 1 Axes>"
      ]
     },
     "metadata": {
      "needs_background": "light"
     },
     "output_type": "display_data"
    }
   ],
   "source": [
    "plt.plot(loss_per_it)\n",
    "plt.ylabel('training loss')\n",
    "plt.xlabel('iterations')\n",
    "plt.title(r'$\\lambda = 10^{-5}$')\n",
    "plt.axis([0, 80, 0, max(loss_per_it) + 100])\n",
    "plt.show()"
   ]
  },
  {
   "cell_type": "code",
   "execution_count": 405,
   "metadata": {},
   "outputs": [],
   "source": [
    "it5 = loss_per_it"
   ]
  },
  {
   "cell_type": "markdown",
   "metadata": {},
   "source": [
    "Using $\\lambda = 10^{-4}$, we get $$\\mathbf{w} = \\begin{bmatrix} -10.7031049\\\\ -0.184814984\\\\ -0.447385102\\\\  -0.308213436\\\\\n",
    "       -0.0102966605\\\\  11.5008763\\\\  0.187454221\\\\ -0.290010140\\\\\n",
    "        0.425851327\\\\ -0.0275499383\\\\ -5.56077751\\\\  0.534428061\\\\\n",
    "        0.330166347\\\\  0.376595296\\\\ -0.0329825370\\\\ 0.0211166000 \\end{bmatrix}$$"
   ]
  },
  {
   "cell_type": "code",
   "execution_count": 406,
   "metadata": {},
   "outputs": [],
   "source": [
    "current_w = initial_w\n",
    "initial_lamb = 0.0001\n",
    "current_lambk = 0.00001\n",
    "next_loss = 0\n",
    "current_loss = loss(X_train, initial_w, initial_lamb)\n",
    "loss_per_it = []"
   ]
  },
  {
   "cell_type": "code",
   "execution_count": 407,
   "metadata": {},
   "outputs": [],
   "source": [
    "while current_loss > 260:\n",
    "    next_w = getNextW(X_train, current_w, initial_lamb, current_lambk)\n",
    "    next_loss = loss(X_train, next_w, initial_lamb)\n",
    "    if (next_loss < current_loss):\n",
    "        current_w = next_w\n",
    "        current_lambk = 0.8 * current_lambk\n",
    "        current_loss = next_loss\n",
    "    else:\n",
    "        current_lambk = 2 * current_lambk\n",
    "    loss_per_it.append(current_loss)"
   ]
  },
  {
   "cell_type": "code",
   "execution_count": 408,
   "metadata": {},
   "outputs": [
    {
     "data": {
      "text/plain": [
       "array([-1.07031049e+01, -1.84814984e-01, -4.47385102e-01,  3.08213436e-01,\n",
       "       -1.02966605e-02,  1.15008763e+01,  1.87454221e-01, -2.90010140e-01,\n",
       "        4.25851327e-01, -2.75499383e-02, -5.56077751e+00,  5.34428061e-01,\n",
       "        3.30166347e-01,  3.76595296e-01, -3.29825370e-02,  2.11166000e-02])"
      ]
     },
     "execution_count": 408,
     "metadata": {},
     "output_type": "execute_result"
    }
   ],
   "source": [
    "current_w"
   ]
  },
  {
   "cell_type": "code",
   "execution_count": 409,
   "metadata": {},
   "outputs": [],
   "source": [
    "ws.append(current_w)"
   ]
  },
  {
   "cell_type": "code",
   "execution_count": 410,
   "metadata": {},
   "outputs": [
    {
     "data": {
      "image/png": "[encoded data removed]",
      "text/plain": [
       "<Figure size 432x288 with 1 Axes>"
      ]
     },
     "metadata": {
      "needs_background": "light"
     },
     "output_type": "display_data"
    }
   ],
   "source": [
    "plt.plot(loss_per_it)\n",
    "plt.ylabel('training loss')\n",
    "plt.xlabel('iterations')\n",
    "plt.title(r'$\\lambda = 10^{-4}$')\n",
    "plt.axis([0, 80, 0, max(loss_per_it) + 100])\n",
    "plt.show()"
   ]
  },
  {
   "cell_type": "code",
   "execution_count": 411,
   "metadata": {},
   "outputs": [],
   "source": [
    "it4 = loss_per_it"
   ]
  },
  {
   "cell_type": "markdown",
   "metadata": {},
   "source": [
    "Using $\\lambda = 10^{-3}$, we get $$\\mathbf{w} = \\begin{bmatrix} -1.89363266\\\\  0.01937842\\\\ -0.05593445\\\\ -0.52059953\\\\  0.0881665\\\\\n",
    "        6.41905446\\\\ -0.32083145\\\\ -0.32305973\\\\  0.02010413\\\\ -0.62731592\\\\\n",
    "       -5.94186692\\\\ -0.35546263\\\\ -0.3318386\\\\ -0.02679276\\\\  0.61945969\\\\\n",
    "        5.87857936 \\end{bmatrix}$$"
   ]
  },
  {
   "cell_type": "code",
   "execution_count": 424,
   "metadata": {},
   "outputs": [],
   "source": [
    "current_w = initial_w\n",
    "initial_lamb = 0.001\n",
    "current_lambk = 0.00001\n",
    "next_loss = 0\n",
    "current_loss = loss(X_train, initial_w, initial_lamb) \n",
    "loss_per_it = []"
   ]
  },
  {
   "cell_type": "code",
   "execution_count": 428,
   "metadata": {},
   "outputs": [],
   "source": [
    "while current_loss > 260:\n",
    "    next_w = getNextW(X_train, current_w, initial_lamb, current_lambk)\n",
    "    next_loss = loss(X_train, next_w, initial_lamb)\n",
    "    if (next_loss < current_loss):\n",
    "        current_w = next_w\n",
    "        current_lambk = 0.8 * current_lambk\n",
    "        current_loss = next_loss\n",
    "    else:\n",
    "        current_lambk = 2 * current_lambk\n",
    "    loss_per_it.append(current_loss)"
   ]
  },
  {
   "cell_type": "code",
   "execution_count": 429,
   "metadata": {},
   "outputs": [
    {
     "data": {
      "text/plain": [
       "array([-1.12958701e+01, -1.75087410e-01, -4.38776111e-01,  3.07448036e-01,\n",
       "       -1.06660272e-02,  1.21101025e+01,  1.79423934e-01, -2.89326509e-01,\n",
       "        4.20836925e-01, -2.69764602e-02, -5.68035512e+00,  5.27222080e-01,\n",
       "        3.23618593e-01,  3.71617559e-01, -3.29674004e-02,  1.82951943e-02])"
      ]
     },
     "execution_count": 429,
     "metadata": {},
     "output_type": "execute_result"
    }
   ],
   "source": [
    "current_w"
   ]
  },
  {
   "cell_type": "code",
   "execution_count": 430,
   "metadata": {},
   "outputs": [],
   "source": [
    "ws.append(current_w)"
   ]
  },
  {
   "cell_type": "code",
   "execution_count": 431,
   "metadata": {},
   "outputs": [
    {
     "data": {
      "image/png": "[encoded data removed]",
      "text/plain": [
       "<Figure size 432x288 with 1 Axes>"
      ]
     },
     "metadata": {
      "needs_background": "light"
     },
     "output_type": "display_data"
    }
   ],
   "source": [
    "plt.plot(loss_per_it)\n",
    "plt.ylabel('training loss')\n",
    "plt.xlabel('iterations')\n",
    "plt.title(r'$\\lambda = 10^{-3}$')\n",
    "plt.axis([0, 80, 0, max(loss_per_it) + 100])\n",
    "plt.show()"
   ]
  },
  {
   "cell_type": "code",
   "execution_count": 432,
   "metadata": {},
   "outputs": [],
   "source": [
    "it3 = loss_per_it"
   ]
  },
  {
   "cell_type": "code",
   "execution_count": 433,
   "metadata": {},
   "outputs": [
    {
     "name": "stdout",
     "output_type": "stream",
     "text": [
      "750 779 1273\n"
     ]
    }
   ],
   "source": [
    "print(len(it5), len(it4), len(it3))"
   ]
  },
  {
   "cell_type": "markdown",
   "metadata": {},
   "source": [
    "Using this intiial $\\mathbf{w}$, the values of $w_1, w_6, w_{11}$ had the greatest magnitude, similar to the first initial $\\mathbf{w}$. The values of the final $\\mathbf{w}$ were similar across all the values of $\\lambda$ used."
   ]
  },
  {
   "cell_type": "markdown",
   "metadata": {},
   "source": [
    "### First initial w\n",
    "<table style=\"width:80%\">\n",
    "    <tr>\n",
    "        <th>\n",
    "        <th>$\\lambda = 10^{-5}$</th>\n",
    "        <th>$\\lambda = 10^{-4}$</th>\n",
    "        <th>$\\lambda = 10^{-3}$</th> \n",
    "    </tr>\n",
    "    <tr>\n",
    "        <td>iterations to converge</td>\n",
    "        <td>631</td>\n",
    "        <td>364</td>\n",
    "        <td>1383</td>\n",
    "      </tr>\n",
    "      <tr>\n",
    "        <td>training MSE</td>\n",
    "        <td>0.51999</td>\n",
    "        <td>0.51994</td>\n",
    "        <td>0.52134</td>\n",
    "      </tr>\n",
    "      <tr>\n",
    "        <td>testing MSE, N = 50</td>\n",
    "        <td>0.55312</td>\n",
    "        <td>0.55326</td>\n",
    "        <td>0.54245</td>\n",
    "      </tr>\n",
    "      <tr>\n",
    "        <td>testing MSE, N = 150</td>\n",
    "        <td>0.45852</td>\n",
    "        <td>0.45865</td>\n",
    "        <td>0.47650</td>\n",
    "      </tr>\n",
    "      <tr>\n",
    "        <td>testing MSE, N = 250</td>\n",
    "        <td>0.56956</td>\n",
    "        <td>0.56953</td>\n",
    "        <td>0.57610</td>\n",
    "      </tr>\n",
    "</table>"
   ]
  },
  {
   "cell_type": "markdown",
   "metadata": {},
   "source": [
    "Again, it seems like the MSE is more dependent on the actual set of numbers rather than the regularization constant used."
   ]
  },
  {
   "cell_type": "code",
   "execution_count": 434,
   "metadata": {},
   "outputs": [
    {
     "data": {
      "text/plain": [
       "0.5199898009946167"
      ]
     },
     "execution_count": 434,
     "metadata": {},
     "output_type": "execute_result"
    }
   ],
   "source": [
    "sum([r ** 2 for r in rbold(X_train, ws[0])]) / len(X_train)"
   ]
  },
  {
   "cell_type": "code",
   "execution_count": 435,
   "metadata": {},
   "outputs": [
    {
     "data": {
      "text/plain": [
       "0.5199434149102712"
      ]
     },
     "execution_count": 435,
     "metadata": {},
     "output_type": "execute_result"
    }
   ],
   "source": [
    "sum([r ** 2 for r in rbold(X_train, ws[1])]) / len(X_train)"
   ]
  },
  {
   "cell_type": "code",
   "execution_count": 436,
   "metadata": {},
   "outputs": [
    {
     "data": {
      "text/plain": [
       "0.5213384627307802"
      ]
     },
     "execution_count": 436,
     "metadata": {},
     "output_type": "execute_result"
    }
   ],
   "source": [
    "sum([r ** 2 for r in rbold(X_train, ws[2])]) / len(X_train)"
   ]
  },
  {
   "cell_type": "code",
   "execution_count": 437,
   "metadata": {},
   "outputs": [
    {
     "data": {
      "text/plain": [
       "0.5531249093906844"
      ]
     },
     "execution_count": 437,
     "metadata": {},
     "output_type": "execute_result"
    }
   ],
   "source": [
    "sum([r ** 2 for r in rbold(X_test_50, ws[0])]) / len(X_test_50)"
   ]
  },
  {
   "cell_type": "code",
   "execution_count": 438,
   "metadata": {},
   "outputs": [
    {
     "data": {
      "text/plain": [
       "0.553262628781212"
      ]
     },
     "execution_count": 438,
     "metadata": {},
     "output_type": "execute_result"
    }
   ],
   "source": [
    "sum([r ** 2 for r in rbold(X_test_50, ws[1])]) / len(X_test_50)"
   ]
  },
  {
   "cell_type": "code",
   "execution_count": 439,
   "metadata": {},
   "outputs": [
    {
     "data": {
      "text/plain": [
       "0.5424505891214344"
      ]
     },
     "execution_count": 439,
     "metadata": {},
     "output_type": "execute_result"
    }
   ],
   "source": [
    "sum([r ** 2 for r in rbold(X_test_50, ws[2])]) / len(X_test_50)"
   ]
  },
  {
   "cell_type": "code",
   "execution_count": 443,
   "metadata": {},
   "outputs": [
    {
     "data": {
      "text/plain": [
       "0.45852433689558597"
      ]
     },
     "execution_count": 443,
     "metadata": {},
     "output_type": "execute_result"
    }
   ],
   "source": [
    "sum([r ** 2 for r in rbold(X_test_150, ws[0])]) / len(X_test_150)"
   ]
  },
  {
   "cell_type": "code",
   "execution_count": 444,
   "metadata": {},
   "outputs": [
    {
     "data": {
      "text/plain": [
       "0.4586495423105072"
      ]
     },
     "execution_count": 444,
     "metadata": {},
     "output_type": "execute_result"
    }
   ],
   "source": [
    "sum([r ** 2 for r in rbold(X_test_150, ws[1])]) / len(X_test_150)"
   ]
  },
  {
   "cell_type": "code",
   "execution_count": 445,
   "metadata": {},
   "outputs": [
    {
     "data": {
      "text/plain": [
       "0.476502398616936"
      ]
     },
     "execution_count": 445,
     "metadata": {},
     "output_type": "execute_result"
    }
   ],
   "source": [
    "sum([r ** 2 for r in rbold(X_test_150, ws[2])]) / len(X_test_150)"
   ]
  },
  {
   "cell_type": "code",
   "execution_count": 440,
   "metadata": {},
   "outputs": [
    {
     "data": {
      "text/plain": [
       "0.5695627495130325"
      ]
     },
     "execution_count": 440,
     "metadata": {},
     "output_type": "execute_result"
    }
   ],
   "source": [
    "sum([r ** 2 for r in rbold(X_test_250, ws[0])]) / len(X_test_250)"
   ]
  },
  {
   "cell_type": "code",
   "execution_count": 441,
   "metadata": {},
   "outputs": [
    {
     "data": {
      "text/plain": [
       "0.5695340164180385"
      ]
     },
     "execution_count": 441,
     "metadata": {},
     "output_type": "execute_result"
    }
   ],
   "source": [
    "sum([r ** 2 for r in rbold(X_test_250, ws[1])]) / len(X_test_250)"
   ]
  },
  {
   "cell_type": "code",
   "execution_count": 442,
   "metadata": {},
   "outputs": [
    {
     "data": {
      "text/plain": [
       "0.5761023595121697"
      ]
     },
     "execution_count": 442,
     "metadata": {},
     "output_type": "execute_result"
    }
   ],
   "source": [
    "sum([r ** 2 for r in rbold(X_test_250, ws[2])]) / len(X_test_250)"
   ]
  },
  {
   "cell_type": "markdown",
   "metadata": {},
   "source": [
    "### Second initial w\n",
    "<table style=\"width:80%\">\n",
    "    <tr>\n",
    "        <th>\n",
    "        <th>$\\lambda = 10^{-5}$</th>\n",
    "        <th>$\\lambda = 10^{-4}$</th>\n",
    "        <th>$\\lambda = 10^{-3}$</th> \n",
    "    </tr>\n",
    "    <tr>\n",
    "        <td>iterations to converge</td>\n",
    "        <td>750</td>\n",
    "        <td>779</td>\n",
    "        <td>1273</td>\n",
    "      </tr>\n",
    "      <tr>\n",
    "        <td>training MSE</td>\n",
    "        <td>0.51999</td>\n",
    "        <td>0.51994</td>\n",
    "        <td>0.51958</td>\n",
    "      </tr>\n",
    "      <tr>\n",
    "        <td>testing MSE, N = 50</td>\n",
    "        <td>0.55097</td>\n",
    "        <td>0.55129</td>\n",
    "        <td>0.55421</td>\n",
    "      </tr>\n",
    "      <tr>\n",
    "        <td>testing MSE, N = 150</td>\n",
    "        <td>0.46310</td>\n",
    "        <td>0.46291</td>\n",
    "        <td>0.46173</td>\n",
    "      </tr>\n",
    "      <tr>\n",
    "        <td>testing MSE, N = 250</td>\n",
    "        <td>0.57126</td>\n",
    "        <td>0.57116</td>\n",
    "        <td>0.57034</td>\n",
    "      </tr>\n",
    "</table>"
   ]
  },
  {
   "cell_type": "markdown",
   "metadata": {},
   "source": [
    "In this case, we can see that using a larger regularization constant allowed the neural network to generalize better on new data than using a smaller regularization constant."
   ]
  },
  {
   "cell_type": "code",
   "execution_count": 446,
   "metadata": {},
   "outputs": [
    {
     "data": {
      "text/plain": [
       "0.5199897158762834"
      ]
     },
     "execution_count": 446,
     "metadata": {},
     "output_type": "execute_result"
    }
   ],
   "source": [
    "sum([r ** 2 for r in rbold(X_train, ws[3])]) / len(X_train)"
   ]
  },
  {
   "cell_type": "code",
   "execution_count": 447,
   "metadata": {},
   "outputs": [
    {
     "data": {
      "text/plain": [
       "0.5199423122032277"
      ]
     },
     "execution_count": 447,
     "metadata": {},
     "output_type": "execute_result"
    }
   ],
   "source": [
    "sum([r ** 2 for r in rbold(X_train, ws[4])]) / len(X_train)"
   ]
  },
  {
   "cell_type": "code",
   "execution_count": 448,
   "metadata": {},
   "outputs": [
    {
     "data": {
      "text/plain": [
       "0.5195846708876606"
      ]
     },
     "execution_count": 448,
     "metadata": {},
     "output_type": "execute_result"
    }
   ],
   "source": [
    "sum([r ** 2 for r in rbold(X_train, ws[5])]) / len(X_train)"
   ]
  },
  {
   "cell_type": "code",
   "execution_count": 449,
   "metadata": {},
   "outputs": [
    {
     "data": {
      "text/plain": [
       "0.5509694828074639"
      ]
     },
     "execution_count": 449,
     "metadata": {},
     "output_type": "execute_result"
    }
   ],
   "source": [
    "sum([r ** 2 for r in rbold(X_test_50, ws[3])]) / len(X_test_50)"
   ]
  },
  {
   "cell_type": "code",
   "execution_count": 450,
   "metadata": {},
   "outputs": [
    {
     "data": {
      "text/plain": [
       "0.5512927323053236"
      ]
     },
     "execution_count": 450,
     "metadata": {},
     "output_type": "execute_result"
    }
   ],
   "source": [
    "sum([r ** 2 for r in rbold(X_test_50, ws[4])]) / len(X_test_50)"
   ]
  },
  {
   "cell_type": "code",
   "execution_count": 451,
   "metadata": {},
   "outputs": [
    {
     "data": {
      "text/plain": [
       "0.554206734230707"
      ]
     },
     "execution_count": 451,
     "metadata": {},
     "output_type": "execute_result"
    }
   ],
   "source": [
    "sum([r ** 2 for r in rbold(X_test_50, ws[5])]) / len(X_test_50)"
   ]
  },
  {
   "cell_type": "code",
   "execution_count": 452,
   "metadata": {},
   "outputs": [
    {
     "data": {
      "text/plain": [
       "0.4630957685166509"
      ]
     },
     "execution_count": 452,
     "metadata": {},
     "output_type": "execute_result"
    }
   ],
   "source": [
    "sum([r ** 2 for r in rbold(X_test_150, ws[3])]) / len(X_test_150)"
   ]
  },
  {
   "cell_type": "code",
   "execution_count": 453,
   "metadata": {},
   "outputs": [
    {
     "data": {
      "text/plain": [
       "0.4629087914814732"
      ]
     },
     "execution_count": 453,
     "metadata": {},
     "output_type": "execute_result"
    }
   ],
   "source": [
    "sum([r ** 2 for r in rbold(X_test_150, ws[4])]) / len(X_test_150)"
   ]
  },
  {
   "cell_type": "code",
   "execution_count": 454,
   "metadata": {},
   "outputs": [
    {
     "data": {
      "text/plain": [
       "0.461730330684886"
      ]
     },
     "execution_count": 454,
     "metadata": {},
     "output_type": "execute_result"
    }
   ],
   "source": [
    "sum([r ** 2 for r in rbold(X_test_150, ws[5])]) / len(X_test_150)"
   ]
  },
  {
   "cell_type": "code",
   "execution_count": 455,
   "metadata": {},
   "outputs": [
    {
     "data": {
      "text/plain": [
       "0.5712615503524845"
      ]
     },
     "execution_count": 455,
     "metadata": {},
     "output_type": "execute_result"
    }
   ],
   "source": [
    "sum([r ** 2 for r in rbold(X_test_250, ws[3])]) / len(X_test_250)"
   ]
  },
  {
   "cell_type": "code",
   "execution_count": 456,
   "metadata": {},
   "outputs": [
    {
     "data": {
      "text/plain": [
       "0.5711562394075276"
      ]
     },
     "execution_count": 456,
     "metadata": {},
     "output_type": "execute_result"
    }
   ],
   "source": [
    "sum([r ** 2 for r in rbold(X_test_250, ws[4])]) / len(X_test_250)"
   ]
  },
  {
   "cell_type": "code",
   "execution_count": 457,
   "metadata": {},
   "outputs": [
    {
     "data": {
      "text/plain": [
       "0.570340125119035"
      ]
     },
     "execution_count": 457,
     "metadata": {},
     "output_type": "execute_result"
    }
   ],
   "source": [
    "sum([r ** 2 for r in rbold(X_test_250, ws[5])]) / len(X_test_250)"
   ]
  },
  {
   "cell_type": "code",
   "execution_count": null,
   "metadata": {},
   "outputs": [],
   "source": []
  }
 ],
 "metadata": {
  "kernelspec": {
   "display_name": "Python 3",
   "language": "python",
   "name": "python3"
  },
  "language_info": {
   "codemirror_mode": {
    "name": "ipython",
    "version": 3
   },
   "file_extension": ".py",
   "mimetype": "text/x-python",
   "name": "python",
   "nbconvert_exporter": "python",
   "pygments_lexer": "ipython3",
   "version": "3.8.6"
  }
 },
 "nbformat": 4,
 "nbformat_minor": 4
}
